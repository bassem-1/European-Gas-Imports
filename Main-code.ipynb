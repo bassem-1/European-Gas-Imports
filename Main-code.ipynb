{
 "cells": [
  {
   "cell_type": "markdown",
   "metadata": {},
   "source": [
    "# Initialization and dataset preparation"
   ]
  },
  {
   "cell_type": "code",
   "execution_count": 1,
   "metadata": {},
   "outputs": [],
   "source": [
    "import pandas as pd\n",
    "import matplotlib.pyplot as plt\n",
    "import numpy as np\n",
    "import warnings\n",
    "warnings.filterwarnings('ignore')\n",
    "\n",
    "from statsmodels.tsa.arima.model import ARIMA\n",
    "from statsmodels.tsa.stattools import adfuller\n",
    "from sklearn.metrics import mean_squared_error\n",
    "from sklearn.metrics import r2_score\n",
    "from statsmodels.graphics.tsaplots import plot_acf\n",
    "from statsmodels.graphics.tsaplots import plot_pacf"
   ]
  },
  {
   "cell_type": "code",
   "execution_count": 2,
   "metadata": {},
   "outputs": [],
   "source": [
    "df = pd.read_csv('daily_data_2024-10-22.csv')\n",
    "df['dates'] = pd.to_datetime(df['dates'])"
   ]
  },
  {
   "cell_type": "code",
   "execution_count": 3,
   "metadata": {},
   "outputs": [
    {
     "data": {
      "text/html": [
       "<div>\n",
       "<style scoped>\n",
       "    .dataframe tbody tr th:only-of-type {\n",
       "        vertical-align: middle;\n",
       "    }\n",
       "\n",
       "    .dataframe tbody tr th {\n",
       "        vertical-align: top;\n",
       "    }\n",
       "\n",
       "    .dataframe thead th {\n",
       "        text-align: right;\n",
       "    }\n",
       "</style>\n",
       "<table border=\"1\" class=\"dataframe\">\n",
       "  <thead>\n",
       "    <tr style=\"text-align: right;\">\n",
       "      <th></th>\n",
       "      <th>dates</th>\n",
       "      <th>Norway</th>\n",
       "      <th>Algeria</th>\n",
       "      <th>Russia</th>\n",
       "      <th>Azerbaijan</th>\n",
       "      <th>Libya</th>\n",
       "      <th>UK net flows</th>\n",
       "      <th>LNG</th>\n",
       "      <th>EU total</th>\n",
       "      <th>Nord Stream</th>\n",
       "      <th>Ukraine Gas Transit</th>\n",
       "      <th>Yamal (BY,PL)</th>\n",
       "      <th>Turkstream</th>\n",
       "      <th>Russia (Sudzha)</th>\n",
       "    </tr>\n",
       "  </thead>\n",
       "  <tbody>\n",
       "    <tr>\n",
       "      <th>0</th>\n",
       "      <td>2018-01-08</td>\n",
       "      <td>263.4</td>\n",
       "      <td>76.1</td>\n",
       "      <td>570.2</td>\n",
       "      <td>0.0</td>\n",
       "      <td>13.8</td>\n",
       "      <td>45.4</td>\n",
       "      <td>114.8</td>\n",
       "      <td>1083.8</td>\n",
       "      <td>174.4</td>\n",
       "      <td>266.1</td>\n",
       "      <td>110.1</td>\n",
       "      <td>NaN</td>\n",
       "      <td>NaN</td>\n",
       "    </tr>\n",
       "    <tr>\n",
       "      <th>1</th>\n",
       "      <td>2018-02-08</td>\n",
       "      <td>262.6</td>\n",
       "      <td>74.8</td>\n",
       "      <td>578.5</td>\n",
       "      <td>0.0</td>\n",
       "      <td>12.8</td>\n",
       "      <td>47.0</td>\n",
       "      <td>122.9</td>\n",
       "      <td>1098.6</td>\n",
       "      <td>170.6</td>\n",
       "      <td>277.5</td>\n",
       "      <td>110.2</td>\n",
       "      <td>NaN</td>\n",
       "      <td>NaN</td>\n",
       "    </tr>\n",
       "    <tr>\n",
       "      <th>2</th>\n",
       "      <td>2018-03-08</td>\n",
       "      <td>251.0</td>\n",
       "      <td>74.0</td>\n",
       "      <td>565.5</td>\n",
       "      <td>0.0</td>\n",
       "      <td>11.4</td>\n",
       "      <td>39.5</td>\n",
       "      <td>124.8</td>\n",
       "      <td>1066.2</td>\n",
       "      <td>170.3</td>\n",
       "      <td>263.8</td>\n",
       "      <td>110.3</td>\n",
       "      <td>NaN</td>\n",
       "      <td>NaN</td>\n",
       "    </tr>\n",
       "    <tr>\n",
       "      <th>3</th>\n",
       "      <td>2018-04-08</td>\n",
       "      <td>257.1</td>\n",
       "      <td>71.0</td>\n",
       "      <td>561.5</td>\n",
       "      <td>0.0</td>\n",
       "      <td>12.3</td>\n",
       "      <td>35.6</td>\n",
       "      <td>93.7</td>\n",
       "      <td>1031.1</td>\n",
       "      <td>170.6</td>\n",
       "      <td>258.8</td>\n",
       "      <td>110.3</td>\n",
       "      <td>NaN</td>\n",
       "      <td>NaN</td>\n",
       "    </tr>\n",
       "    <tr>\n",
       "      <th>4</th>\n",
       "      <td>2018-05-08</td>\n",
       "      <td>253.9</td>\n",
       "      <td>69.7</td>\n",
       "      <td>565.7</td>\n",
       "      <td>0.0</td>\n",
       "      <td>11.7</td>\n",
       "      <td>33.7</td>\n",
       "      <td>83.0</td>\n",
       "      <td>1017.8</td>\n",
       "      <td>170.1</td>\n",
       "      <td>263.9</td>\n",
       "      <td>110.4</td>\n",
       "      <td>NaN</td>\n",
       "      <td>NaN</td>\n",
       "    </tr>\n",
       "    <tr>\n",
       "      <th>...</th>\n",
       "      <td>...</td>\n",
       "      <td>...</td>\n",
       "      <td>...</td>\n",
       "      <td>...</td>\n",
       "      <td>...</td>\n",
       "      <td>...</td>\n",
       "      <td>...</td>\n",
       "      <td>...</td>\n",
       "      <td>...</td>\n",
       "      <td>...</td>\n",
       "      <td>...</td>\n",
       "      <td>...</td>\n",
       "      <td>...</td>\n",
       "      <td>...</td>\n",
       "    </tr>\n",
       "    <tr>\n",
       "      <th>2268</th>\n",
       "      <td>2024-10-16</td>\n",
       "      <td>259.0</td>\n",
       "      <td>93.0</td>\n",
       "      <td>83.0</td>\n",
       "      <td>35.0</td>\n",
       "      <td>5.0</td>\n",
       "      <td>27.0</td>\n",
       "      <td>309.0</td>\n",
       "      <td>811.0</td>\n",
       "      <td>NaN</td>\n",
       "      <td>41.0</td>\n",
       "      <td>NaN</td>\n",
       "      <td>43.0</td>\n",
       "      <td>45</td>\n",
       "    </tr>\n",
       "    <tr>\n",
       "      <th>2269</th>\n",
       "      <td>2024-10-17</td>\n",
       "      <td>243.0</td>\n",
       "      <td>92.0</td>\n",
       "      <td>83.0</td>\n",
       "      <td>35.0</td>\n",
       "      <td>2.0</td>\n",
       "      <td>23.0</td>\n",
       "      <td>316.0</td>\n",
       "      <td>795.0</td>\n",
       "      <td>NaN</td>\n",
       "      <td>39.0</td>\n",
       "      <td>NaN</td>\n",
       "      <td>44.0</td>\n",
       "      <td>46</td>\n",
       "    </tr>\n",
       "    <tr>\n",
       "      <th>2270</th>\n",
       "      <td>2024-10-18</td>\n",
       "      <td>235.0</td>\n",
       "      <td>92.0</td>\n",
       "      <td>84.0</td>\n",
       "      <td>37.0</td>\n",
       "      <td>2.0</td>\n",
       "      <td>22.0</td>\n",
       "      <td>314.0</td>\n",
       "      <td>786.0</td>\n",
       "      <td>NaN</td>\n",
       "      <td>39.0</td>\n",
       "      <td>NaN</td>\n",
       "      <td>45.0</td>\n",
       "      <td>47</td>\n",
       "    </tr>\n",
       "    <tr>\n",
       "      <th>2271</th>\n",
       "      <td>2024-10-19</td>\n",
       "      <td>257.0</td>\n",
       "      <td>83.0</td>\n",
       "      <td>89.0</td>\n",
       "      <td>37.0</td>\n",
       "      <td>2.0</td>\n",
       "      <td>20.0</td>\n",
       "      <td>261.0</td>\n",
       "      <td>749.0</td>\n",
       "      <td>NaN</td>\n",
       "      <td>39.0</td>\n",
       "      <td>NaN</td>\n",
       "      <td>50.0</td>\n",
       "      <td>46</td>\n",
       "    </tr>\n",
       "    <tr>\n",
       "      <th>2272</th>\n",
       "      <td>2024-10-20</td>\n",
       "      <td>255.0</td>\n",
       "      <td>83.0</td>\n",
       "      <td>88.0</td>\n",
       "      <td>37.0</td>\n",
       "      <td>2.0</td>\n",
       "      <td>20.0</td>\n",
       "      <td>261.0</td>\n",
       "      <td>746.0</td>\n",
       "      <td>NaN</td>\n",
       "      <td>40.0</td>\n",
       "      <td>NaN</td>\n",
       "      <td>48.0</td>\n",
       "      <td>43</td>\n",
       "    </tr>\n",
       "  </tbody>\n",
       "</table>\n",
       "<p>2273 rows × 14 columns</p>\n",
       "</div>"
      ],
      "text/plain": [
       "          dates  Norway  Algeria  Russia  Azerbaijan  Libya  UK net flows  \\\n",
       "0    2018-01-08   263.4     76.1   570.2         0.0   13.8          45.4   \n",
       "1    2018-02-08   262.6     74.8   578.5         0.0   12.8          47.0   \n",
       "2    2018-03-08   251.0     74.0   565.5         0.0   11.4          39.5   \n",
       "3    2018-04-08   257.1     71.0   561.5         0.0   12.3          35.6   \n",
       "4    2018-05-08   253.9     69.7   565.7         0.0   11.7          33.7   \n",
       "...         ...     ...      ...     ...         ...    ...           ...   \n",
       "2268 2024-10-16   259.0     93.0    83.0        35.0    5.0          27.0   \n",
       "2269 2024-10-17   243.0     92.0    83.0        35.0    2.0          23.0   \n",
       "2270 2024-10-18   235.0     92.0    84.0        37.0    2.0          22.0   \n",
       "2271 2024-10-19   257.0     83.0    89.0        37.0    2.0          20.0   \n",
       "2272 2024-10-20   255.0     83.0    88.0        37.0    2.0          20.0   \n",
       "\n",
       "        LNG  EU total  Nord Stream  Ukraine Gas Transit  Yamal (BY,PL)  \\\n",
       "0     114.8    1083.8        174.4                266.1          110.1   \n",
       "1     122.9    1098.6        170.6                277.5          110.2   \n",
       "2     124.8    1066.2        170.3                263.8          110.3   \n",
       "3      93.7    1031.1        170.6                258.8          110.3   \n",
       "4      83.0    1017.8        170.1                263.9          110.4   \n",
       "...     ...       ...          ...                  ...            ...   \n",
       "2268  309.0     811.0          NaN                 41.0            NaN   \n",
       "2269  316.0     795.0          NaN                 39.0            NaN   \n",
       "2270  314.0     786.0          NaN                 39.0            NaN   \n",
       "2271  261.0     749.0          NaN                 39.0            NaN   \n",
       "2272  261.0     746.0          NaN                 40.0            NaN   \n",
       "\n",
       "      Turkstream Russia (Sudzha)  \n",
       "0            NaN             NaN  \n",
       "1            NaN             NaN  \n",
       "2            NaN             NaN  \n",
       "3            NaN             NaN  \n",
       "4            NaN             NaN  \n",
       "...          ...             ...  \n",
       "2268        43.0              45  \n",
       "2269        44.0              46  \n",
       "2270        45.0              47  \n",
       "2271        50.0              46  \n",
       "2272        48.0              43  \n",
       "\n",
       "[2273 rows x 14 columns]"
      ]
     },
     "execution_count": 3,
     "metadata": {},
     "output_type": "execute_result"
    }
   ],
   "source": [
    "df"
   ]
  },
  {
   "cell_type": "markdown",
   "metadata": {},
   "source": [
    "Using ARIMA model to predict \n",
    " - Make sure series are stationarry using DF test\n",
    " - If not Try first differencing\n",
    "  - - Retest using ADF\n",
    "  - - If not Normalizing\n",
    "  - - If yes Plot ACF and PACF to get the p,q\n",
    "  - - Fit the model and predict\n",
    "  - - If uncertain about p,q try different models (p,q) and compare their AIC, BIC, and predict using the one with the best values\n",
    "\n"
   ]
  },
  {
   "cell_type": "markdown",
   "metadata": {},
   "source": [
    "# Russia Timeseries"
   ]
  },
  {
   "cell_type": "markdown",
   "metadata": {},
   "source": [
    "## Russia Dickey Fueller Test"
   ]
  },
  {
   "cell_type": "code",
   "execution_count": 4,
   "metadata": {},
   "outputs": [
    {
     "name": "stdout",
     "output_type": "stream",
     "text": [
      "ADF Test Statistic: -0.9753066664846265\n",
      "p-value: 0.7621637587344547\n",
      "Critical Value (1%): -3.433255799449242\n",
      "Critical Value (5%): -2.862823704909085\n",
      "Critical Value (10%): -2.56745337629031\n"
     ]
    }
   ],
   "source": [
    "# Perform the ADF test\n",
    "result = adfuller(df['Russia'])\n",
    "\n",
    "# Extract and print the test statistic and p-value\n",
    "test_statistic = result[0]\n",
    "p_value = result[1]\n",
    "\n",
    "print(f'ADF Test Statistic: {test_statistic}')\n",
    "print(f'p-value: {p_value}')\n",
    "\n",
    "# Print the critical values\n",
    "for key, value in result[4].items():\n",
    "    print(f'Critical Value ({key}): {value}')"
   ]
  },
  {
   "cell_type": "markdown",
   "metadata": {},
   "source": [
    "### Given the timesteries are non stationary, we perform ADF test after first differencing"
   ]
  },
  {
   "cell_type": "code",
   "execution_count": 5,
   "metadata": {},
   "outputs": [
    {
     "name": "stdout",
     "output_type": "stream",
     "text": [
      "ADF Test Statistic: -9.64144064378659\n",
      "p-value: 1.5171162262520145e-16\n",
      "Critical Value (1%): -3.433267467097435\n",
      "Critical Value (5%): -2.862828856845257\n",
      "Critical Value (10%): -2.567456119332679\n"
     ]
    }
   ],
   "source": [
    "# Perform the ADF test after first differencing\n",
    "result = adfuller(df['Russia'].diff().dropna())\n",
    "\n",
    "# Extract and print the test statistic and p-value\n",
    "test_statistic = result[0]\n",
    "p_value = result[1]\n",
    "\n",
    "print(f'ADF Test Statistic: {test_statistic}')\n",
    "print(f'p-value: {p_value}')\n",
    "\n",
    "# Print the critical values\n",
    "for key, value in result[4].items():\n",
    "    print(f'Critical Value ({key}): {value}')"
   ]
  },
  {
   "cell_type": "markdown",
   "metadata": {},
   "source": [
    "First differencing yielded stationary results (p value below 5%)"
   ]
  },
  {
   "cell_type": "markdown",
   "metadata": {},
   "source": [
    "## ACF, PACF for Russia"
   ]
  },
  {
   "cell_type": "code",
   "execution_count": 6,
   "metadata": {},
   "outputs": [
    {
     "data": {
      "image/png": "[encoded data removed]",
      "text/plain": [
       "<Figure size 640x480 with 2 Axes>"
      ]
     },
     "metadata": {},
     "output_type": "display_data"
    }
   ],
   "source": [
    "f, ax = plt.subplots(nrows=2, ncols=1)\n",
    "\n",
    "plot_acf(df['Russia'].diff().dropna(),lags=20, ax=ax[0])\n",
    "plot_pacf(df['Russia'].diff().dropna(),lags=20, ax=ax[1], method='ols')\n",
    "\n",
    "plt.tight_layout()\n",
    "plt.show()"
   ]
  },
  {
   "cell_type": "markdown",
   "metadata": {},
   "source": [
    "Given the ACF and PACF cut off after 1 lag, we have p=q=1 after first differencing d=1"
   ]
  },
  {
   "cell_type": "markdown",
   "metadata": {},
   "source": [
    "## Russia ARIMA(1,1,1) predictions"
   ]
  },
  {
   "cell_type": "code",
   "execution_count": null,
   "metadata": {},
   "outputs": [],
   "source": [
    "#Setting train and test data size at 80% and 20% respectively, data is sorted by date \n",
    "train_size = int(len(df) * 0.8)\n",
    "train, test = df.iloc[:train_size], df.iloc[train_size:]\n",
    "value= 'Russia'\n",
    "\n",
    "\n",
    "# Fitting ARIMA model\n",
    "predictions = []\n",
    "history = [x for x in train[value]]\n",
    "\n",
    "for t in range(len(test)):\n",
    "    model = ARIMA(history, order=(1, 1, 1))\n",
    "\n",
    "    model_fit = model.fit()\n",
    "    output = model_fit.forecast()\n",
    "    yhat = output[0]\n",
    "    predictions.append(yhat)\n",
    "    obs = test[value].iloc[t]\n",
    "    history.append(obs)\n",
    "\n",
    "test['predictions'] = predictions\n",
    "\n",
    "# Evaluating the model\n",
    "mse = mean_squared_error(test[value], test['predictions'])\n",
    "print(f'Mean Squared Error: {mse}')\n",
    "\n",
    "# Plotting the results\n",
    "plt.figure(figsize=(10, 6))\n",
    "plt.plot(df[value], label='Actual')\n",
    "plt.plot(test['predictions'], label='Forecast', color='red', linestyle='--', linewidth=1)\n",
    "plt.ylabel('Gas Flows [MCM]')\n",
    "plt.legend()\n",
    "plt.show()"
   ]
  },
  {
   "cell_type": "code",
   "execution_count": null,
   "metadata": {},
   "outputs": [],
   "source": [
    "print('The R^2 score for Russia flows time series is', r2_score(test['Russia'],test['predictions']))"
   ]
  },
  {
   "cell_type": "markdown",
   "metadata": {},
   "source": [
    "# Libya Timeseries"
   ]
  },
  {
   "cell_type": "markdown",
   "metadata": {},
   "source": [
    "## ADF test for Libya"
   ]
  },
  {
   "cell_type": "code",
   "execution_count": null,
   "metadata": {},
   "outputs": [],
   "source": [
    "# Perform the ADF test\n",
    "result = adfuller(df['Libya'])\n",
    "\n",
    "# Extract and print the test statistic and p-value\n",
    "test_statistic = result[0]\n",
    "p_value = result[1]\n",
    "\n",
    "print(f'ADF Test Statistic: {test_statistic}')\n",
    "print(f'p-value: {p_value}')\n",
    "\n",
    "# Print the critical values\n",
    "for key, value in result[4].items():\n",
    "    print(f'Critical Value ({key}): {value}')"
   ]
  },
  {
   "cell_type": "markdown",
   "metadata": {},
   "source": [
    "### Given the timesteries are non stationary (p>5%), we perform ADF test after first differencing"
   ]
  },
  {
   "cell_type": "code",
   "execution_count": null,
   "metadata": {},
   "outputs": [],
   "source": [
    "# Perform the ADF test after first differencing\n",
    "result = adfuller(df['Libya'].diff().dropna())\n",
    "\n",
    "# Extract and print the test statistic and p-value\n",
    "test_statistic = result[0]\n",
    "p_value = result[1]\n",
    "\n",
    "print(f'ADF Test Statistic: {test_statistic}')\n",
    "print(f'p-value: {p_value}')\n",
    "\n",
    "# Print the critical values\n",
    "for key, value in result[4].items():\n",
    "    print(f'Critical Value ({key}): {value}')"
   ]
  },
  {
   "cell_type": "markdown",
   "metadata": {},
   "source": [
    "## ACF, PACF for Libya"
   ]
  },
  {
   "cell_type": "code",
   "execution_count": null,
   "metadata": {},
   "outputs": [],
   "source": [
    "f, ax = plt.subplots(nrows=2, ncols=1)\n",
    "plot_acf(df['Libya'].diff().dropna(),lags=20, ax=ax[0])\n",
    "plot_pacf(df['Libya'].diff().dropna(),lags=20, ax=ax[1], method='ols')\n",
    "\n",
    "plt.tight_layout()\n",
    "plt.show()"
   ]
  },
  {
   "cell_type": "markdown",
   "metadata": {},
   "source": [
    "Given the ACF and PACF cut off after 1 lag, we have p=q=1 after first differencing d=1"
   ]
  },
  {
   "cell_type": "markdown",
   "metadata": {},
   "source": [
    "## Libya ARIMA (1,1,1)"
   ]
  },
  {
   "cell_type": "code",
   "execution_count": null,
   "metadata": {},
   "outputs": [],
   "source": [
    "# Setting train and test data size at 80% and 20% respectively\n",
    "train_size = int(len(df) * 0.8)\n",
    "train, test = df.iloc[:train_size], df.iloc[train_size:]\n",
    "value= 'Libya'\n",
    "\n",
    "\n",
    "# Fitting ARIMA model\n",
    "predictions = []\n",
    "history = [x for x in train[value]]\n",
    "\n",
    "for t in range(len(test)):\n",
    "    model = ARIMA(history, order=(1, 1, 1))\n",
    "    model_fit = model.fit()\n",
    "    output = model_fit.forecast()\n",
    "    yhat = output[0]\n",
    "    predictions.append(yhat)\n",
    "    obs = test[value].iloc[t]\n",
    "    history.append(obs)\n",
    "\n",
    "test['predictions'] = predictions\n",
    "\n",
    "# Evaluating the model\n",
    "mse = mean_squared_error(test[value], test['predictions'])\n",
    "print(f'Mean Squared Error: {mse}')\n",
    "\n",
    "# Plotting the results\n",
    "plt.figure(figsize=(10, 6))\n",
    "plt.plot(df[value], label='Actual')\n",
    "plt.plot(test['predictions'], label='Forecast', color='red', linestyle='--', linewidth=1)\n",
    "plt.ylabel('Gas Flows [MCM]')\n",
    "plt.legend()\n",
    "plt.show()"
   ]
  },
  {
   "cell_type": "code",
   "execution_count": null,
   "metadata": {},
   "outputs": [],
   "source": [
    "print('The R^2 score for Libya flows time series is', r2_score(test['Libya'],test['predictions']))"
   ]
  },
  {
   "cell_type": "markdown",
   "metadata": {},
   "source": [
    "# Norway Timeseries"
   ]
  },
  {
   "cell_type": "markdown",
   "metadata": {},
   "source": [
    "## ADF test for Norway"
   ]
  },
  {
   "cell_type": "code",
   "execution_count": null,
   "metadata": {},
   "outputs": [],
   "source": [
    "# Perform the ADF test\n",
    "result = adfuller(df['Norway'])\n",
    "\n",
    "# Extract and print the test statistic and p-value\n",
    "test_statistic = result[0]\n",
    "p_value = result[1]\n",
    "\n",
    "print(f'ADF Test Statistic: {test_statistic}')\n",
    "print(f'p-value: {p_value}')\n",
    "\n",
    "# Print the critical values\n",
    "for key, value in result[4].items():\n",
    "    print(f'Critical Value ({key}): {value}')"
   ]
  },
  {
   "cell_type": "markdown",
   "metadata": {},
   "source": [
    "### Given the timesteries are stationary (p>5%)"
   ]
  },
  {
   "cell_type": "markdown",
   "metadata": {},
   "source": [
    "## ACF, PACF for Norway"
   ]
  },
  {
   "cell_type": "code",
   "execution_count": null,
   "metadata": {},
   "outputs": [],
   "source": [
    "f, ax = plt.subplots(nrows=2, ncols=1)\n",
    "plot_acf(df['Norway'],lags=20, ax=ax[0])\n",
    "plot_pacf(df['Norway'],lags=20, ax=ax[1], method='ols')\n",
    "\n",
    "plt.tight_layout()\n",
    "plt.show()"
   ]
  },
  {
   "cell_type": "markdown",
   "metadata": {},
   "source": [
    "Given the timeseries are stationary, the ACF does not cut off, and PACF cut off after 1 lag, we have p=1 q= 0 d=0"
   ]
  },
  {
   "cell_type": "markdown",
   "metadata": {},
   "source": [
    "## Norway ARIMA (1,0,0), so AR(1)"
   ]
  },
  {
   "cell_type": "code",
   "execution_count": null,
   "metadata": {},
   "outputs": [],
   "source": [
    "# Setting train and test data size at 80% and 20% respectively\n",
    "train_size = int(len(df) * 0.8)\n",
    "train, test = df.iloc[:train_size], df.iloc[train_size:]\n",
    "value= 'Norway'\n",
    "\n",
    "\n",
    "# Fitting ARIMA model\n",
    "predictions = []\n",
    "history = [x for x in train[value]]\n",
    "\n",
    "for t in range(len(test)):\n",
    "    model = ARIMA(history, order=(1, 0, 0))\n",
    "    model_fit = model.fit()\n",
    "    output = model_fit.forecast()\n",
    "    yhat = output[0]\n",
    "    predictions.append(yhat)\n",
    "    obs = test[value].iloc[t]\n",
    "    history.append(obs)\n",
    "\n",
    "test['predictions'] = predictions\n",
    "\n",
    "# Evaluating the model\n",
    "mse = mean_squared_error(test[value], test['predictions'])\n",
    "print(f'Mean Squared Error: {mse}')\n",
    "\n",
    "# Plotting the results\n",
    "plt.figure(figsize=(10, 6))\n",
    "plt.plot(df[value], label='Actual')\n",
    "plt.plot(test['predictions'], label='Forecast', color='red', linestyle='--', linewidth=1)\n",
    "plt.ylabel('Gas Flows [MCM]')\n",
    "plt.legend()\n",
    "plt.show()"
   ]
  },
  {
   "cell_type": "code",
   "execution_count": null,
   "metadata": {},
   "outputs": [],
   "source": [
    "print('The R^2 score for Norway flows time series is', r2_score(test['Norway'],test['predictions']))"
   ]
  },
  {
   "cell_type": "markdown",
   "metadata": {},
   "source": [
    "# Azerbaijan Timeseries"
   ]
  },
  {
   "cell_type": "markdown",
   "metadata": {},
   "source": [
    "## ADF test for Azerbaijan"
   ]
  },
  {
   "cell_type": "code",
   "execution_count": null,
   "metadata": {},
   "outputs": [],
   "source": [
    "# Perform the ADF test\n",
    "result = adfuller(df['Azerbaijan'])\n",
    "\n",
    "# Extract and print the test statistic and p-value\n",
    "test_statistic = result[0]\n",
    "p_value = result[1]\n",
    "\n",
    "print(f'ADF Test Statistic: {test_statistic}')\n",
    "print(f'p-value: {p_value}')\n",
    "\n",
    "# Print the critical values\n",
    "for key, value in result[4].items():\n",
    "    print(f'Critical Value ({key}): {value}')"
   ]
  },
  {
   "cell_type": "markdown",
   "metadata": {},
   "source": [
    "### Given the timesteries are non stationary (p>5%), we perform ADF test after first differencing"
   ]
  },
  {
   "cell_type": "code",
   "execution_count": null,
   "metadata": {},
   "outputs": [],
   "source": [
    "# Perform the ADF test after first differencing\n",
    "result = adfuller(df['Azerbaijan'].diff().dropna())\n",
    "\n",
    "# Extract and print the test statistic and p-value\n",
    "test_statistic = result[0]\n",
    "p_value = result[1]\n",
    "\n",
    "print(f'ADF Test Statistic: {test_statistic}')\n",
    "print(f'p-value: {p_value}')\n",
    "\n",
    "# Print the critical values\n",
    "for key, value in result[4].items():\n",
    "    print(f'Critical Value ({key}): {value}')"
   ]
  },
  {
   "cell_type": "markdown",
   "metadata": {},
   "source": [
    "First differencing yielded stationary results (p value below 5%)"
   ]
  },
  {
   "cell_type": "markdown",
   "metadata": {},
   "source": [
    "## ACF, PACF for Azerbaijan"
   ]
  },
  {
   "cell_type": "code",
   "execution_count": null,
   "metadata": {},
   "outputs": [],
   "source": [
    "f, ax = plt.subplots(nrows=2, ncols=1)\n",
    "plot_acf(df['Azerbaijan'].diff().dropna(),lags=20, ax=ax[0])\n",
    "plot_pacf(df['Azerbaijan'].diff().dropna(),lags=20, ax=ax[1], method='ols')\n",
    "\n",
    "# ax[0].annotate('Strong correlation at lag = 1', xy=(1, 0.5),  xycoords='data',\n",
    "#             xytext=(0.15, 0.7), textcoords='axes fraction',\n",
    "#             arrowprops=dict(color='red', shrink=0.05, width=1))\n",
    "\n",
    "plt.tight_layout()\n",
    "plt.show()"
   ]
  },
  {
   "cell_type": "markdown",
   "metadata": {},
   "source": [
    "Given the ACF and PACF cut off after 1 lag, we have p=q=1 after first differencing d=1"
   ]
  },
  {
   "cell_type": "markdown",
   "metadata": {},
   "source": [
    "## Azerbaijan ARIMA(1,1,1)"
   ]
  },
  {
   "cell_type": "code",
   "execution_count": null,
   "metadata": {},
   "outputs": [],
   "source": [
    "# Setting train and test data size at 80% and 20% respectively\n",
    "train_size = int(len(df) * 0.8)\n",
    "train, test = df.iloc[:train_size], df.iloc[train_size:]\n",
    "value= 'Azerbaijan'\n",
    "\n",
    "# Fitting ARIMA model\n",
    "predictions = []\n",
    "history = [x for x in train[value]]\n",
    "\n",
    "for t in range(len(test)):\n",
    "    model = ARIMA(history, order=(1, 1, 1))\n",
    "    model_fit = model.fit()\n",
    "    output = model_fit.forecast()\n",
    "    yhat = output[0]\n",
    "    predictions.append(yhat)\n",
    "    obs = test[value].iloc[t]\n",
    "    history.append(obs)\n",
    "\n",
    "test['predictions'] = predictions\n",
    "\n",
    "# Evaluating the model\n",
    "mse = mean_squared_error(test[value], test['predictions'])\n",
    "print(f'Mean Squared Error: {mse}')\n",
    "\n",
    "# Plotting the results\n",
    "plt.figure(figsize=(10, 6))\n",
    "plt.plot(df[value], label='Actual')\n",
    "plt.plot(test['predictions'], label='Forecast', color='red', linestyle='--', linewidth=1)\n",
    "plt.ylabel('Gas Flows [MCM]')\n",
    "plt.legend()\n",
    "plt.show()"
   ]
  },
  {
   "cell_type": "code",
   "execution_count": null,
   "metadata": {},
   "outputs": [],
   "source": [
    "print('The R^2 score for Azerbaijan flows time series is', r2_score(test['Azerbaijan'],test['predictions']))"
   ]
  },
  {
   "cell_type": "markdown",
   "metadata": {},
   "source": [
    "# Algeria Timeseries"
   ]
  },
  {
   "cell_type": "markdown",
   "metadata": {},
   "source": [
    "## ADF test for Algeria"
   ]
  },
  {
   "cell_type": "code",
   "execution_count": null,
   "metadata": {},
   "outputs": [],
   "source": [
    "# Perform the ADF test\n",
    "result = adfuller(df['Algeria'])\n",
    "\n",
    "# Extract and print the test statistic and p-value\n",
    "test_statistic = result[0]\n",
    "p_value = result[1]\n",
    "\n",
    "print(f'ADF Test Statistic: {test_statistic}')\n",
    "print(f'p-value: {p_value}')\n",
    "\n",
    "# Print the critical values\n",
    "for key, value in result[4].items():\n",
    "    print(f'Critical Value ({key}): {value}')"
   ]
  },
  {
   "cell_type": "markdown",
   "metadata": {},
   "source": [
    "### Given the timesteries are stationary (p>5%)"
   ]
  },
  {
   "cell_type": "markdown",
   "metadata": {},
   "source": [
    "## ACF, PACF for Algeria"
   ]
  },
  {
   "cell_type": "code",
   "execution_count": null,
   "metadata": {},
   "outputs": [],
   "source": [
    "f, ax = plt.subplots(nrows=2, ncols=1)\n",
    "plot_acf(df['Algeria'],lags=20, ax=ax[0])\n",
    "plot_pacf(df['Algeria'],lags=20, ax=ax[1], method='ols')\n",
    "\n",
    "plt.tight_layout()\n",
    "plt.show()"
   ]
  },
  {
   "cell_type": "markdown",
   "metadata": {},
   "source": [
    "Given the timeseries are stationary, the ACF does not cut off, and PACF cut off after 2 lags, we have p=2 q= 0 d=0"
   ]
  },
  {
   "cell_type": "markdown",
   "metadata": {},
   "source": [
    "## Algeria ARIMA(2,0,0) so AR(2)"
   ]
  },
  {
   "cell_type": "code",
   "execution_count": null,
   "metadata": {},
   "outputs": [],
   "source": [
    "# Setting train and test data size at 80% and 20% respectively\n",
    "train_size = int(len(df) * 0.8)\n",
    "train, test = df.iloc[:train_size], df.iloc[train_size:]\n",
    "value= 'Algeria'\n",
    "\n",
    "\n",
    "# Fitting ARIMA model\n",
    "predictions = []\n",
    "history = [x for x in train[value]]\n",
    "\n",
    "for t in range(len(test)):\n",
    "    model = ARIMA(history, order=(2, 0, 0))\n",
    "    model_fit = model.fit()\n",
    "    output = model_fit.forecast()\n",
    "    yhat = output[0]\n",
    "    predictions.append(yhat)\n",
    "    obs = test[value].iloc[t]\n",
    "    history.append(obs)\n",
    "\n",
    "test['predictions'] = predictions\n",
    "\n",
    "# Evaluating the model\n",
    "mse = mean_squared_error(test[value], test['predictions'], color='red', linestyle='--', linewidth=1)\n",
    "print(f'Mean Squared Error: {mse}')\n",
    "\n",
    "# Plotting the results\n",
    "plt.figure(figsize=(10, 6))\n",
    "plt.plot(df[value], label='Actual')\n",
    "plt.plot(test['predictions'], label='Forecast')\n",
    "plt.ylabel('Gas Flows [MCM]')\n",
    "plt.legend()\n",
    "plt.show()"
   ]
  },
  {
   "cell_type": "code",
   "execution_count": null,
   "metadata": {},
   "outputs": [],
   "source": [
    "print('The R^2 score for Algeria flows time series is', r2_score(test['Algeria'],test['predictions']))"
   ]
  },
  {
   "cell_type": "markdown",
   "metadata": {},
   "source": [
    "# UK Timeseries"
   ]
  },
  {
   "cell_type": "markdown",
   "metadata": {},
   "source": [
    "## ADF test for the United kingdom"
   ]
  },
  {
   "cell_type": "code",
   "execution_count": null,
   "metadata": {},
   "outputs": [],
   "source": [
    "# Perform the ADF test\n",
    "result = adfuller(df['UK net flows'])\n",
    "\n",
    "# Extract and print the test statistic and p-value\n",
    "test_statistic = result[0]\n",
    "p_value = result[1]\n",
    "\n",
    "print(f'ADF Test Statistic: {test_statistic}')\n",
    "print(f'p-value: {p_value}')\n",
    "\n",
    "# Print the critical values\n",
    "for key, value in result[4].items():\n",
    "    print(f'Critical Value ({key}): {value}')"
   ]
  },
  {
   "cell_type": "markdown",
   "metadata": {},
   "source": [
    "### Given the timesteries are stationary (p>5%)"
   ]
  },
  {
   "cell_type": "markdown",
   "metadata": {},
   "source": [
    "## ACF, PACF for UK"
   ]
  },
  {
   "cell_type": "code",
   "execution_count": null,
   "metadata": {},
   "outputs": [],
   "source": [
    "f, ax = plt.subplots(nrows=2, ncols=1)\n",
    "plot_acf(df['UK net flows'],lags=20, ax=ax[0])\n",
    "plot_pacf(df['UK net flows'],lags=20, ax=ax[1], method='ols')\n",
    "plt.tight_layout()\n",
    "plt.show()"
   ]
  },
  {
   "cell_type": "markdown",
   "metadata": {},
   "source": [
    "Given the timeseries are stationary, the ACF does not cut off, and PACF cut off after 2 lags, we have p=2 q= 0 d=0"
   ]
  },
  {
   "cell_type": "markdown",
   "metadata": {},
   "source": [
    "## UK ARIMA(2,0,0) so AR(2)"
   ]
  },
  {
   "cell_type": "code",
   "execution_count": null,
   "metadata": {},
   "outputs": [],
   "source": [
    "# Setting train and test data size at 80% and 20% respectively\n",
    "train_size = int(len(df) * 0.8)\n",
    "train, test = df.iloc[:train_size], df.iloc[train_size:]\n",
    "value= 'UK net flows'\n",
    "\n",
    "# Fitting ARIMA model\n",
    "predictions = []\n",
    "history = [x for x in train[value]]\n",
    "\n",
    "for t in range(len(test)):\n",
    "    model = ARIMA(history, order=(2, 0, 0))\n",
    "    model_fit = model.fit()\n",
    "    output = model_fit.forecast()\n",
    "    yhat = output[0]\n",
    "    predictions.append(yhat)\n",
    "    obs = test[value].iloc[t]\n",
    "    history.append(obs)\n",
    "\n",
    "test['predictions'] = predictions\n",
    "\n",
    "# Evaluating the model\n",
    "mse = mean_squared_error(test[value], test['predictions'], color='red', linestyle='--', linewidth=1)\n",
    "print(f'Mean Squared Error: {mse}')\n",
    "\n",
    "# Plotting the results\n",
    "plt.figure(figsize=(10, 6))\n",
    "plt.plot(df[value], label='Actual')\n",
    "plt.plot(test['predictions'], label='Forecast')\n",
    "plt.ylabel('Gas Flows [MCM]')\n",
    "plt.legend()\n",
    "plt.show()"
   ]
  },
  {
   "cell_type": "code",
   "execution_count": null,
   "metadata": {},
   "outputs": [],
   "source": [
    "print('The R^2 score for UK flows time series is', r2_score(test['UK net flows'],test['predictions']))"
   ]
  },
  {
   "cell_type": "markdown",
   "metadata": {},
   "source": [
    "# EU total inflows Timeseries"
   ]
  },
  {
   "cell_type": "markdown",
   "metadata": {},
   "source": [
    "## ADF test for the EU total"
   ]
  },
  {
   "cell_type": "code",
   "execution_count": null,
   "metadata": {},
   "outputs": [],
   "source": [
    "# Perform the ADF test\n",
    "result = adfuller(df['EU total'])\n",
    "\n",
    "# Extract and print the test statistic and p-value\n",
    "test_statistic = result[0]\n",
    "p_value = result[1]\n",
    "\n",
    "print(f'ADF Test Statistic: {test_statistic}')\n",
    "print(f'p-value: {p_value}')\n",
    "\n",
    "# Print the critical values\n",
    "for key, value in result[4].items():\n",
    "    print(f'Critical Value ({key}): {value}')"
   ]
  },
  {
   "cell_type": "markdown",
   "metadata": {},
   "source": [
    "### Given the timesteries are non stationary (p>5%), we perform ADF test after first differencing"
   ]
  },
  {
   "cell_type": "code",
   "execution_count": null,
   "metadata": {},
   "outputs": [],
   "source": [
    "# Perform the ADF test after first differencing\n",
    "result = adfuller(df['EU total'].diff().dropna())\n",
    "\n",
    "# Extract and print the test statistic and p-value\n",
    "test_statistic = result[0]\n",
    "p_value = result[1]\n",
    "\n",
    "print(f'ADF Test Statistic: {test_statistic}')\n",
    "print(f'p-value: {p_value}')\n",
    "\n",
    "# Print the critical values\n",
    "for key, value in result[4].items():\n",
    "    print(f'Critical Value ({key}): {value}')"
   ]
  },
  {
   "cell_type": "markdown",
   "metadata": {},
   "source": [
    "First differencing yielded stationary results (p value below 5%)"
   ]
  },
  {
   "cell_type": "markdown",
   "metadata": {},
   "source": [
    "## ACF, PACF for EU total"
   ]
  },
  {
   "cell_type": "code",
   "execution_count": null,
   "metadata": {},
   "outputs": [],
   "source": [
    "f, ax = plt.subplots(nrows=2, ncols=1)\n",
    "plot_acf(df['EU total'].diff().dropna(),lags=20, ax=ax[0])\n",
    "plot_pacf(df['EU total'].diff().dropna(),lags=20, ax=ax[1], method='ols')\n",
    "plt.tight_layout()\n",
    "plt.show()"
   ]
  },
  {
   "cell_type": "markdown",
   "metadata": {},
   "source": [
    "Given the ACF and PACF cut off after 1 lag, we have p=q=1 after first differencing d=1"
   ]
  },
  {
   "cell_type": "markdown",
   "metadata": {},
   "source": [
    "## EU ARIMA(1,1,1)"
   ]
  },
  {
   "cell_type": "code",
   "execution_count": null,
   "metadata": {},
   "outputs": [],
   "source": [
    "# Setting train and test data size at 80% and 20% respectively\n",
    "train_size = int(len(df) * 0.8)\n",
    "train, test = df.iloc[:train_size], df.iloc[train_size:]\n",
    "value= 'EU total'\n",
    "\n",
    "# Fitting ARIMA model\n",
    "predictions = []\n",
    "history = [x for x in train[value]]\n",
    "\n",
    "for t in range(len(test)):\n",
    "    model = ARIMA(history, order=(2, 0, 0))\n",
    "    model_fit = model.fit()\n",
    "    output = model_fit.forecast()\n",
    "    yhat = output[0]\n",
    "    predictions.append(yhat)\n",
    "    obs = test[value].iloc[t]\n",
    "    history.append(obs)\n",
    "\n",
    "test['predictions'] = predictions\n",
    "\n",
    "# Evaluating the model\n",
    "mse = mean_squared_error(test[value], test['predictions'])\n",
    "print(f'Mean Squared Error: {mse}')\n",
    "\n",
    "# Plotting the results\n",
    "plt.figure(figsize=(10, 6))\n",
    "plt.plot(df[value], label='Actual')\n",
    "plt.plot(test['predictions'], label='Forecast', color='red', linestyle='--', linewidth=1)\n",
    "plt.ylabel('Gas Flows [MCM]')\n",
    "plt.xlabel('Date')\n",
    "plt.legend()\n",
    "plt.show()"
   ]
  },
  {
   "cell_type": "code",
   "execution_count": null,
   "metadata": {},
   "outputs": [],
   "source": [
    "print('The R^2 score for EU total inflows', r2_score(test['EU total'],test['predictions']))"
   ]
  }
 ],
 "metadata": {
  "kernelspec": {
   "display_name": "Python 3",
   "language": "python",
   "name": "python3"
  },
  "language_info": {
   "codemirror_mode": {
    "name": "ipython",
    "version": 3
   },
   "file_extension": ".py",
   "mimetype": "text/x-python",
   "name": "python",
   "nbconvert_exporter": "python",
   "pygments_lexer": "ipython3",
   "version": "3.10.8"
  }
 },
 "nbformat": 4,
 "nbformat_minor": 2
}
